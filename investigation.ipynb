{
 "cells": [
  {
   "cell_type": "code",
   "execution_count": null,
   "id": "f7746806",
   "metadata": {},
   "outputs": [],
   "source": [
    "import pandas as pd\n",
    "import os.path\n",
    "import numpy as np\n",
    "import matplotlib.pyplot as plt\n",
    "import seaborn as sns"
   ]
  },
  {
   "cell_type": "code",
   "execution_count": null,
   "id": "b1b9f41e",
   "metadata": {},
   "outputs": [],
   "source": [
    "dataset = pd.read_csv('debug/monitoring.csv', sep='\\t')\n",
    "keys_as_float = ['tmp', 'val', 'config', 'sb_oc', 'sb_unused']\n",
    "for key in keys_as_float: dataset[key] = dataset[key].apply(lambda x : None if x == 'None' else float(x))"
   ]
  },
  {
   "cell_type": "code",
   "execution_count": null,
   "id": "3672e338",
   "metadata": {},
   "outputs": [],
   "source": [
    "dataset.head()"
   ]
  },
  {
   "cell_type": "markdown",
   "id": "dad34e19",
   "metadata": {},
   "source": [
    "# Investigate global usage"
   ]
  },
  {
   "cell_type": "code",
   "execution_count": null,
   "id": "080bcc43",
   "metadata": {},
   "outputs": [],
   "source": [
    "overall = dataset.loc[dataset['rec'] == 'global']\n",
    "overall_cpu = overall.loc[overall['res'] == 'cpu']\n",
    "overall_mem = overall.loc[overall['rec'] == 'mem']"
   ]
  },
  {
   "cell_type": "code",
   "execution_count": null,
   "id": "28fa28c0",
   "metadata": {},
   "outputs": [],
   "source": [
    "# Convert percent to CPU cores\n",
    "pd.options.mode.chained_assignment = None  # default='warn'\n",
    "overall_cpu['cores'] = overall_cpu['val'] * overall_cpu['config']"
   ]
  },
  {
   "cell_type": "code",
   "execution_count": null,
   "id": "6cfd549a",
   "metadata": {},
   "outputs": [],
   "source": [
    "palette = sns.color_palette(\"Set2\", overall_cpu['res'].nunique())\n",
    "\n",
    "g_val = sns.lineplot(data=overall_cpu, x='tmp', y='cores', hue='res', palette=palette)"
   ]
  },
  {
   "cell_type": "markdown",
   "id": "8d28d1e4",
   "metadata": {},
   "source": [
    "# Investigate CPU usage"
   ]
  },
  {
   "cell_type": "code",
   "execution_count": null,
   "id": "c11feddf",
   "metadata": {},
   "outputs": [],
   "source": [
    "subsets = dataset.loc[dataset['rec'] == 'subset']\n",
    "subsets_cpu = subsets.loc[subsets['res'] == 'cpu']\n",
    "subsets_mem = subsets.loc[subsets['rec'] == 'mem']"
   ]
  },
  {
   "cell_type": "code",
   "execution_count": null,
   "id": "27ff81ce",
   "metadata": {},
   "outputs": [],
   "source": [
    "# Convert percent to CPU cores\n",
    "pd.options.mode.chained_assignment = None  # default='warn'\n",
    "subsets_cpu['cores'] = subsets_cpu['val'] * subsets_cpu['config']"
   ]
  },
  {
   "cell_type": "code",
   "execution_count": null,
   "id": "407cd343",
   "metadata": {},
   "outputs": [],
   "source": [
    "palette = sns.color_palette(\"Set2\", subsets_cpu['subset'].nunique())\n",
    "\n",
    "g_val = sns.lineplot(data=subsets_cpu, x='tmp', y='val', hue='subset', linestyle ='--', palette=palette, legend=False)\n",
    "g_config = sns.lineplot(data=subsets_cpu, x='tmp', y='config', hue='subset', palette=palette)"
   ]
  },
  {
   "cell_type": "code",
   "execution_count": null,
   "id": "d2e0c65f",
   "metadata": {},
   "outputs": [],
   "source": [
    "import json\n",
    "subsets_unarchived = subsets\n",
    "example = json.loads(subsets_unarchived['sb_dsc'].iloc[0])\n",
    "print(len(example['consumer_list']))"
   ]
  },
  {
   "cell_type": "code",
   "execution_count": null,
   "id": "ace59661",
   "metadata": {},
   "outputs": [],
   "source": [
    "subsets_unarchived['list_vm']  = subsets_unarchived['sb_dsc'].apply(lambda x : json.loads(x)['consumer_list'])\n",
    "subsets_unarchived['count_vm'] = subsets_unarchived['sb_dsc'].apply(lambda x : len(json.loads(x)['consumer_list']))"
   ]
  },
  {
   "cell_type": "code",
   "execution_count": null,
   "id": "3078e1b7",
   "metadata": {},
   "outputs": [],
   "source": [
    "palette = sns.color_palette(\"Set2\", subsets_unarchived['res'].nunique())\n",
    "\n",
    "g_val = sns.lineplot(data=subsets_unarchived.loc[subsets_unarchived['res'] == 'cpu'], x='tmp', y='count_vm', hue='res', palette=palette)\n",
    "g_val = sns.lineplot(data=subsets_unarchived.loc[subsets_unarchived['res'] == 'mem'], x='tmp', y='count_vm', hue='res', linestyle='--')"
   ]
  },
  {
   "cell_type": "markdown",
   "id": "9ee6ff03",
   "metadata": {},
   "source": [
    "# Investigate VM usage"
   ]
  },
  {
   "cell_type": "code",
   "execution_count": null,
   "id": "413f615c",
   "metadata": {},
   "outputs": [],
   "source": [
    "vm = dataset.loc[dataset['rec'] == 'vm']\n",
    "vm_cpu = vm.loc[vm['res'] == 'cpu']\n",
    "vm_mem = vm.loc[vm['rec'] == 'mem']"
   ]
  },
  {
   "cell_type": "code",
   "execution_count": null,
   "id": "fe002455",
   "metadata": {},
   "outputs": [],
   "source": [
    "palette = sns.color_palette(\"Set2\", vm_cpu['subset'].nunique())\n",
    "\n",
    "g_val = sns.lineplot(data=vm_cpu, x='tmp', y='val', hue='subset', linestyle ='--', palette=palette, legend=False)\n",
    "g_config = sns.lineplot(data=vm_cpu, x='tmp', y='config', hue='subset', palette=palette)"
   ]
  },
  {
   "cell_type": "markdown",
   "id": "a817faef",
   "metadata": {},
   "source": [
    "# Dive into subset configuration"
   ]
  }
 ],
 "metadata": {
  "kernelspec": {
   "display_name": "Python 3 (ipykernel)",
   "language": "python",
   "name": "python3"
  },
  "language_info": {
   "codemirror_mode": {
    "name": "ipython",
    "version": 3
   },
   "file_extension": ".py",
   "mimetype": "text/x-python",
   "name": "python",
   "nbconvert_exporter": "python",
   "pygments_lexer": "ipython3",
   "version": "3.10.6"
  }
 },
 "nbformat": 4,
 "nbformat_minor": 5
}

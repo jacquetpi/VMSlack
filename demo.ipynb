{
 "cells": [
  {
   "cell_type": "markdown",
   "id": "8dcea02e",
   "metadata": {},
   "source": [
    "# Demonstration"
   ]
  },
  {
   "cell_type": "markdown",
   "id": "f390225a",
   "metadata": {},
   "source": [
    "This notebook guides you on how to reproduce figure 3 of the paper"
   ]
  },
  {
   "cell_type": "markdown",
   "id": "bfe9e66d",
   "metadata": {},
   "source": [
    "Section  ```Local scheduler - Offline mode``` from README file must have been previously followed"
   ]
  },
  {
   "cell_type": "code",
   "execution_count": null,
   "id": "7f4fdd8f",
   "metadata": {},
   "outputs": [],
   "source": [
    "import pandas as pd\n",
    "import os.path\n",
    "import numpy as np\n",
    "import matplotlib.pyplot as plt\n",
    "import seaborn as sns"
   ]
  },
  {
   "cell_type": "code",
   "execution_count": null,
   "id": "9cd189d0",
   "metadata": {},
   "outputs": [],
   "source": [
    "dataset = pd.read_csv('debug/monitoring.csv', sep='\\t')\n",
    "\n",
    "keys_as_float = ['tmp', 'val', 'config', 'sb_oc', 'sb_unused']\n",
    "for key in keys_as_float: dataset[key] = dataset[key].apply(lambda x : None if x == 'None' else float(x))\n",
    "dataset['time'] = dataset['tmp'] / 60"
   ]
  },
  {
   "cell_type": "code",
   "execution_count": null,
   "id": "77a1328c",
   "metadata": {},
   "outputs": [],
   "source": [
    "subsets = dataset.loc[dataset['rec'] == 'subset']\n",
    "subsets_cpu = subsets.loc[subsets['res'] == 'cpu']\n",
    "subsets_mem = subsets.loc[subsets['res'] == 'mem']"
   ]
  },
  {
   "cell_type": "code",
   "execution_count": null,
   "id": "9377af1e",
   "metadata": {},
   "outputs": [],
   "source": [
    "palette = sns.color_palette(\"Set2\", subsets_cpu['subset'].nunique())\n",
    "\n",
    "g_val = sns.lineplot(data=subsets_cpu, x='tmp', y='val', hue='subset', palette=palette, linestyle='--', legend=False, alpha=0.5)\n",
    "g_config = sns.lineplot(data=subsets_cpu, x='tmp', y='config', hue='subset', palette=palette)\n",
    "\n",
    "g_config.legend(loc='upper left', title=None)\n",
    "handles, previous_labels = g_config.get_legend_handles_labels()\n",
    "\n",
    "g_config.legend(handles=[handles[2], handles[0], handles[1]], labels=['vNode 1:1', 'vNode 2:1', 'vNode 3:1'], loc='upper left', title=None)\n",
    "plt.xlim([0, 30000])\n",
    "plt.ylim([0, 140])\n",
    "g_config.set_ylabel('cores')\n",
    "g_config.set_xlabel('time')\n",
    "res = g_config.set_xticklabels([])"
   ]
  }
 ],
 "metadata": {
  "kernelspec": {
   "display_name": "Python 3 (ipykernel)",
   "language": "python",
   "name": "python3"
  },
  "language_info": {
   "codemirror_mode": {
    "name": "ipython",
    "version": 3
   },
   "file_extension": ".py",
   "mimetype": "text/x-python",
   "name": "python",
   "nbconvert_exporter": "python",
   "pygments_lexer": "ipython3",
   "version": "3.10.12"
  }
 },
 "nbformat": 4,
 "nbformat_minor": 5
}
